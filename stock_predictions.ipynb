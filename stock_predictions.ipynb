{
 "cells": [
  {
   "cell_type": "markdown",
   "id": "670294f2",
   "metadata": {
    "execution": {
     "iopub.execute_input": "2022-10-03T01:49:38.963335Z",
     "iopub.status.busy": "2022-10-03T01:49:38.962962Z",
     "iopub.status.idle": "2022-10-03T01:49:38.969737Z",
     "shell.execute_reply": "2022-10-03T01:49:38.968178Z",
     "shell.execute_reply.started": "2022-10-03T01:49:38.963306Z"
    },
    "papermill": {
     "duration": 0.006956,
     "end_time": "2022-10-10T18:26:06.509445",
     "exception": false,
     "start_time": "2022-10-10T18:26:06.502489",
     "status": "completed"
    },
    "tags": []
   },
   "source": [
    "Using TF LSTM with a Sequential Model Predict a time window of a stock"
   ]
  },
  {
   "cell_type": "code",
   "execution_count": null,
   "id": "756d1635",
   "metadata": {
    "execution": {
     "iopub.execute_input": "2022-10-10T18:26:06.524457Z",
     "iopub.status.busy": "2022-10-10T18:26:06.524079Z",
     "iopub.status.idle": "2022-10-10T18:26:15.756669Z",
     "shell.execute_reply": "2022-10-10T18:26:15.755763Z"
    },
    "papermill": {
     "duration": 9.24471,
     "end_time": "2022-10-10T18:26:15.760721",
     "exception": false,
     "start_time": "2022-10-10T18:26:06.516011",
     "status": "completed"
    },
    "tags": []
   },
   "outputs": [],
   "source": [
    "#Import the libraries\n",
    "import math\n",
    "import pandas_datareader as web\n",
    "import numpy as np\n",
    "import pandas as pd\n",
    "from pickle import load, dump\n",
    "from sklearn.preprocessing import MinMaxScaler\n",
    "from keras.models import Sequential\n",
    "from keras.layers import Dense, LSTM # Long Short-Term Memory layer\n",
    "import keras\n",
    "import matplotlib.pyplot as plt\n",
    "from datetime import datetime, timedelta\n",
    "from timeit import default_timer as timer\n",
    "\n",
    "plt.style.use('fivethirtyeight')\n",
    "\n",
    "sample_start_date = (datetime.now() - timedelta(days=280)).strftime(\"%Y-%m-01\") \n",
    "sample_stop_date = datetime.now().strftime(\"%Y-%m-%d\") \n",
    "print(\"{} -> {}\".format(sample_start_date, sample_stop_date))\n",
    "# STOCK='CPRX'\n",
    "STOCK='CAKE'\n",
    "# STOCK='NCLH'\n",
    "# STOCK='ISEE'\n",
    "# STOCK='GME'\n",
    "\n",
    "# STOCK='LCID'\n",
    "# STOCK='TLRY'\n",
    "#STOCK='NKLA'\n",
    "\n",
    "n_days_to_trend=45\n",
    "\n",
    "def report(results, n_top=3):\n",
    "    for i in range(1, n_top + 1):\n",
    "        candidates = np.flatnonzero(results['rank_test_score'] == i)\n",
    "        for candidate in candidates:\n",
    "            print(\"Model with rank: {0}\".format(i))\n",
    "            print(\"Mean validation score: {0:.3f} (std: {1:.3f})\"\n",
    "                  .format(np.sqrt(-results['mean_test_score'][candidate]),\n",
    "                          results['std_test_score'][candidate]))\n",
    "            print(\"Parameters: {0}\".format(results['params'][candidate]))\n",
    "            print(\"\")\n",
    "\n",
    "\n",
    "class TimingCallback(keras.callbacks.Callback):\n",
    "    def __init__(self, logs={}):\n",
    "        self.logs=[]\n",
    "    def on_epoch_begin(self, epoch, logs={}):\n",
    "        self.starttime = timer()\n",
    "    def on_epoch_end(self, epoch, logs={}):\n",
    "        self.logs.append(timer()-self.starttime)\n",
    "        "
   ]
  },
  {
   "cell_type": "markdown",
   "id": "1fca223a",
   "metadata": {
    "execution": {
     "iopub.execute_input": "2022-10-03T01:49:38.980341Z",
     "iopub.status.busy": "2022-10-03T01:49:38.980031Z",
     "iopub.status.idle": "2022-10-03T01:49:38.9875Z",
     "shell.execute_reply": "2022-10-03T01:49:38.986008Z",
     "shell.execute_reply.started": "2022-10-03T01:49:38.980312Z"
    },
    "papermill": {
     "duration": 0.006388,
     "end_time": "2022-10-10T18:26:15.775354",
     "exception": false,
     "start_time": "2022-10-10T18:26:15.768966",
     "status": "completed"
    },
    "tags": []
   },
   "source": [
    "# 2. Get the Data \n",
    "\n",
    "an online stock store yahoo to automatically get the data"
   ]
  },
  {
   "cell_type": "code",
   "execution_count": null,
   "id": "733105d3",
   "metadata": {
    "collapsed": true,
    "execution": {
     "iopub.execute_input": "2022-10-10T18:26:15.790007Z",
     "iopub.status.busy": "2022-10-10T18:26:15.789387Z",
     "iopub.status.idle": "2022-10-10T18:26:36.100362Z",
     "shell.execute_reply": "2022-10-10T18:26:36.098692Z"
    },
    "jupyter": {
     "outputs_hidden": true
    },
    "papermill": {
     "duration": 20.320362,
     "end_time": "2022-10-10T18:26:36.102188",
     "exception": true,
     "start_time": "2022-10-10T18:26:15.781826",
     "status": "failed"
    },
    "tags": []
   },
   "outputs": [],
   "source": [
    "#Get the stock quote \n",
    "df = web.DataReader(STOCK, data_source='yahoo', start=sample_start_date, end=sample_stop_date) \n",
    "#Show the data \n",
    "# df\n",
    "print(df)"
   ]
  },
  {
   "cell_type": "markdown",
   "id": "5447eec7",
   "metadata": {
    "execution": {
     "iopub.status.busy": "2022-10-03T01:49:38.991856Z",
     "iopub.status.idle": "2022-10-03T01:49:38.992331Z",
     "shell.execute_reply": "2022-10-03T01:49:38.992068Z",
     "shell.execute_reply.started": "2022-10-03T01:49:38.992049Z"
    },
    "papermill": {
     "duration": null,
     "end_time": null,
     "exception": null,
     "start_time": null,
     "status": "pending"
    },
    "tags": []
   },
   "source": [
    "# 3. Explore The Data \n",
    "\n",
    "insites into what the data shows, document any bias i might see or have \n"
   ]
  },
  {
   "cell_type": "code",
   "execution_count": null,
   "id": "5b2b6d1e",
   "metadata": {
    "collapsed": true,
    "execution": {
     "iopub.execute_input": "2022-10-03T13:36:05.37479Z",
     "iopub.status.busy": "2022-10-03T13:36:05.374354Z",
     "iopub.status.idle": "2022-10-03T13:36:05.382343Z",
     "shell.execute_reply": "2022-10-03T13:36:05.381154Z",
     "shell.execute_reply.started": "2022-10-03T13:36:05.374748Z"
    },
    "jupyter": {
     "outputs_hidden": true
    },
    "papermill": {
     "duration": null,
     "end_time": null,
     "exception": null,
     "start_time": null,
     "status": "pending"
    },
    "tags": []
   },
   "outputs": [],
   "source": [
    "df.shape"
   ]
  },
  {
   "cell_type": "code",
   "execution_count": null,
   "id": "599d44bf",
   "metadata": {
    "collapsed": true,
    "execution": {
     "iopub.execute_input": "2022-10-03T13:36:05.386138Z",
     "iopub.status.busy": "2022-10-03T13:36:05.385726Z",
     "iopub.status.idle": "2022-10-03T13:36:05.697705Z",
     "shell.execute_reply": "2022-10-03T13:36:05.696409Z",
     "shell.execute_reply.started": "2022-10-03T13:36:05.386105Z"
    },
    "jupyter": {
     "outputs_hidden": true
    },
    "papermill": {
     "duration": null,
     "end_time": null,
     "exception": null,
     "start_time": null,
     "status": "pending"
    },
    "tags": []
   },
   "outputs": [],
   "source": [
    "#Visualize the closing price history\n",
    "plt.figure(figsize=(16,8))\n",
    "plt.title('Close Price History {}'.format(STOCK))\n",
    "plt.plot(df['Close'])\n",
    "plt.xlabel('Date',fontsize=18)\n",
    "plt.ylabel('Close Price USD ($)',fontsize=18)\n",
    "plt.show()"
   ]
  },
  {
   "cell_type": "code",
   "execution_count": null,
   "id": "39c6636c",
   "metadata": {
    "collapsed": true,
    "execution": {
     "iopub.execute_input": "2022-10-03T13:36:05.701307Z",
     "iopub.status.busy": "2022-10-03T13:36:05.700804Z",
     "iopub.status.idle": "2022-10-03T13:36:05.709358Z",
     "shell.execute_reply": "2022-10-03T13:36:05.708511Z",
     "shell.execute_reply.started": "2022-10-03T13:36:05.701261Z"
    },
    "jupyter": {
     "outputs_hidden": true
    },
    "papermill": {
     "duration": null,
     "end_time": null,
     "exception": null,
     "start_time": null,
     "status": "pending"
    },
    "tags": []
   },
   "outputs": [],
   "source": [
    "#Create a new dataframe with only the 'Close' column\n",
    "data = df.filter(['Close'])\n",
    "# print(data)\n",
    "#Converting the dataframe to a numpy array\n",
    "dataset = data.values\n",
    "print(len(dataset))\n",
    "#Get /Compute the number of rows to train the model on\n",
    "training_data_len = math.ceil( len(dataset) *.8) "
   ]
  },
  {
   "cell_type": "markdown",
   "id": "1ddd8f26",
   "metadata": {
    "execution": {
     "iopub.execute_input": "2022-10-03T01:49:39.296369Z",
     "iopub.status.busy": "2022-10-03T01:49:39.296052Z",
     "iopub.status.idle": "2022-10-03T01:49:39.312905Z",
     "shell.execute_reply": "2022-10-03T01:49:39.309057Z",
     "shell.execute_reply.started": "2022-10-03T01:49:39.296332Z"
    },
    "papermill": {
     "duration": null,
     "end_time": null,
     "exception": null,
     "start_time": null,
     "status": "pending"
    },
    "tags": []
   },
   "source": [
    "# 4. Prepare the Data\n",
    "Using a NN it is requred to scale the data into propper bounds sets\n"
   ]
  },
  {
   "cell_type": "code",
   "execution_count": null,
   "id": "04dd43ed",
   "metadata": {
    "collapsed": true,
    "execution": {
     "iopub.execute_input": "2022-10-03T13:36:05.711157Z",
     "iopub.status.busy": "2022-10-03T13:36:05.710581Z",
     "iopub.status.idle": "2022-10-03T13:36:05.725684Z",
     "shell.execute_reply": "2022-10-03T13:36:05.724741Z",
     "shell.execute_reply.started": "2022-10-03T13:36:05.711122Z"
    },
    "jupyter": {
     "outputs_hidden": true
    },
    "papermill": {
     "duration": null,
     "end_time": null,
     "exception": null,
     "start_time": null,
     "status": "pending"
    },
    "tags": []
   },
   "outputs": [],
   "source": [
    "\n",
    "#Scale the all of the data to be values between 0 and 1 \n",
    "scaler = MinMaxScaler(feature_range=(0, 1)) \n",
    "scaled_data = scaler.fit_transform(dataset)\n",
    "# print(scaled_data)\n",
    "# save the scaler\n",
    "dump(scaler, open('mmscaler.pkl', 'wb'))"
   ]
  },
  {
   "cell_type": "code",
   "execution_count": null,
   "id": "c31ba30f",
   "metadata": {
    "collapsed": true,
    "execution": {
     "iopub.execute_input": "2022-10-03T13:36:05.72908Z",
     "iopub.status.busy": "2022-10-03T13:36:05.727758Z",
     "iopub.status.idle": "2022-10-03T13:36:05.73814Z",
     "shell.execute_reply": "2022-10-03T13:36:05.736763Z",
     "shell.execute_reply.started": "2022-10-03T13:36:05.729034Z"
    },
    "jupyter": {
     "outputs_hidden": true
    },
    "papermill": {
     "duration": null,
     "end_time": null,
     "exception": null,
     "start_time": null,
     "status": "pending"
    },
    "tags": []
   },
   "outputs": [],
   "source": [
    "#Create the scaled training data set \n",
    "# print(training_data_len)\n",
    "train_data = scaled_data[0:training_data_len, : ]\n",
    "# print(len(train_data))\n",
    "#Split the data into x_train and y_train data sets\n",
    "x_train = []\n",
    "y_train = []\n",
    "for i in range(n_days_to_trend,len(train_data)):\n",
    "    x_train.append(train_data[i-n_days_to_trend:i,0])\n",
    "    y_train.append(train_data[i,0])\n",
    "print(len(x_train))\n",
    "print(len(y_train))"
   ]
  },
  {
   "cell_type": "code",
   "execution_count": null,
   "id": "93cb69bc",
   "metadata": {
    "collapsed": true,
    "execution": {
     "iopub.execute_input": "2022-10-03T13:36:05.740019Z",
     "iopub.status.busy": "2022-10-03T13:36:05.739631Z",
     "iopub.status.idle": "2022-10-03T13:36:05.75112Z",
     "shell.execute_reply": "2022-10-03T13:36:05.7503Z",
     "shell.execute_reply.started": "2022-10-03T13:36:05.739986Z"
    },
    "jupyter": {
     "outputs_hidden": true
    },
    "papermill": {
     "duration": null,
     "end_time": null,
     "exception": null,
     "start_time": null,
     "status": "pending"
    },
    "tags": []
   },
   "outputs": [],
   "source": [
    "#Convert x_train and y_train to numpy arrays\n",
    "x_train, y_train = np.array(x_train), np.array(y_train)"
   ]
  },
  {
   "cell_type": "code",
   "execution_count": null,
   "id": "3831267e",
   "metadata": {
    "collapsed": true,
    "execution": {
     "iopub.execute_input": "2022-10-03T13:36:05.753561Z",
     "iopub.status.busy": "2022-10-03T13:36:05.752509Z",
     "iopub.status.idle": "2022-10-03T13:36:05.762599Z",
     "shell.execute_reply": "2022-10-03T13:36:05.761577Z",
     "shell.execute_reply.started": "2022-10-03T13:36:05.753527Z"
    },
    "jupyter": {
     "outputs_hidden": true
    },
    "papermill": {
     "duration": null,
     "end_time": null,
     "exception": null,
     "start_time": null,
     "status": "pending"
    },
    "tags": []
   },
   "outputs": [],
   "source": [
    "#Reshape the data into the shape accepted by the LSTM\n",
    "x_train = np.reshape(x_train, (x_train.shape[0],x_train.shape[1],1))"
   ]
  },
  {
   "cell_type": "markdown",
   "id": "0df360a1",
   "metadata": {
    "execution": {
     "iopub.status.busy": "2022-10-03T01:49:39.32443Z",
     "iopub.status.idle": "2022-10-03T01:49:39.325599Z",
     "shell.execute_reply": "2022-10-03T01:49:39.32532Z",
     "shell.execute_reply.started": "2022-10-03T01:49:39.325291Z"
    },
    "papermill": {
     "duration": null,
     "end_time": null,
     "exception": null,
     "start_time": null,
     "status": "pending"
    },
    "tags": []
   },
   "source": [
    "# 5. Model the Data \n",
    "\n",
    "Using a Sequential LSTM Network apply the layers and detrming densities \n"
   ]
  },
  {
   "cell_type": "code",
   "execution_count": null,
   "id": "ec8338e2",
   "metadata": {
    "collapsed": true,
    "execution": {
     "iopub.execute_input": "2022-10-03T13:36:05.764467Z",
     "iopub.status.busy": "2022-10-03T13:36:05.764159Z",
     "iopub.status.idle": "2022-10-03T13:36:06.803208Z",
     "shell.execute_reply": "2022-10-03T13:36:06.802088Z",
     "shell.execute_reply.started": "2022-10-03T13:36:05.76443Z"
    },
    "jupyter": {
     "outputs_hidden": true
    },
    "papermill": {
     "duration": null,
     "end_time": null,
     "exception": null,
     "start_time": null,
     "status": "pending"
    },
    "tags": []
   },
   "outputs": [],
   "source": [
    "model = Sequential()\n",
    "model.add(LSTM(units=113, return_sequences=True, input_shape=(x_train.shape[1],1)))\n",
    "model.add(LSTM(units=50, return_sequences=False))\n",
    "model.add(Dense(units=25))\n",
    "model.add(Dense(units=1))\n",
    "\n",
    "\n",
    "#Compile the model\n",
    "model.compile(optimizer='adam', loss='mean_squared_error')\n",
    "\n",
    "# Display a model summary\n",
    "model.summary()\n",
    "\n",
    "# model.save('my_stock_model.h5')"
   ]
  },
  {
   "cell_type": "markdown",
   "id": "6cfe1da3",
   "metadata": {
    "execution": {
     "iopub.status.busy": "2022-10-03T01:49:39.329722Z",
     "iopub.status.idle": "2022-10-03T01:49:39.33033Z",
     "shell.execute_reply": "2022-10-03T01:49:39.33005Z",
     "shell.execute_reply.started": "2022-10-03T01:49:39.330023Z"
    },
    "papermill": {
     "duration": null,
     "end_time": null,
     "exception": null,
     "start_time": null,
     "status": "pending"
    },
    "tags": []
   },
   "source": [
    "**Train The Model**"
   ]
  },
  {
   "cell_type": "code",
   "execution_count": null,
   "id": "07d6d981",
   "metadata": {
    "collapsed": true,
    "execution": {
     "iopub.execute_input": "2022-10-03T13:36:06.806893Z",
     "iopub.status.busy": "2022-10-03T13:36:06.806513Z",
     "iopub.status.idle": "2022-10-03T13:36:49.951422Z",
     "shell.execute_reply": "2022-10-03T13:36:49.950201Z",
     "shell.execute_reply.started": "2022-10-03T13:36:06.80684Z"
    },
    "jupyter": {
     "outputs_hidden": true
    },
    "papermill": {
     "duration": null,
     "end_time": null,
     "exception": null,
     "start_time": null,
     "status": "pending"
    },
    "scrolled": true,
    "tags": []
   },
   "outputs": [],
   "source": [
    "#Train the model\n",
    "cb = TimingCallback()\n",
    "model.fit(x_train, y_train, batch_size=1, epochs=10, workers=1, callbacks=[cb])\n",
    "# print(cb.logs)\n",
    "print(\"{} Seconds\".format(sum(cb.logs)))\n",
    "model.save('my_stock_model.h5')"
   ]
  },
  {
   "cell_type": "code",
   "execution_count": null,
   "id": "7088409d",
   "metadata": {
    "collapsed": true,
    "execution": {
     "iopub.execute_input": "2022-10-03T13:36:49.953843Z",
     "iopub.status.busy": "2022-10-03T13:36:49.95323Z",
     "iopub.status.idle": "2022-10-03T13:36:49.959964Z",
     "shell.execute_reply": "2022-10-03T13:36:49.958844Z",
     "shell.execute_reply.started": "2022-10-03T13:36:49.953809Z"
    },
    "jupyter": {
     "outputs_hidden": true
    },
    "papermill": {
     "duration": null,
     "end_time": null,
     "exception": null,
     "start_time": null,
     "status": "pending"
    },
    "tags": []
   },
   "outputs": [],
   "source": [
    "#Test data set\n",
    "test_data = scaled_data[training_data_len - n_days_to_trend: , : ]\n",
    "#Create the x_test and y_test data sets\n",
    "x_test = []\n",
    "y_test =  dataset[training_data_len : , : ] #Get all of the rows from index 1603 to the rest and all of the columns (in this case it's only column 'Close'), so 2003 - 1603 = 400 rows of data\n",
    "for i in range(n_days_to_trend,len(test_data)):\n",
    "    x_test.append(test_data[i-n_days_to_trend:i,0])\n",
    "    "
   ]
  },
  {
   "cell_type": "code",
   "execution_count": null,
   "id": "d5bb1f67",
   "metadata": {
    "collapsed": true,
    "execution": {
     "iopub.execute_input": "2022-10-03T13:36:49.961971Z",
     "iopub.status.busy": "2022-10-03T13:36:49.961514Z",
     "iopub.status.idle": "2022-10-03T13:36:49.977744Z",
     "shell.execute_reply": "2022-10-03T13:36:49.976682Z",
     "shell.execute_reply.started": "2022-10-03T13:36:49.961928Z"
    },
    "jupyter": {
     "outputs_hidden": true
    },
    "papermill": {
     "duration": null,
     "end_time": null,
     "exception": null,
     "start_time": null,
     "status": "pending"
    },
    "tags": []
   },
   "outputs": [],
   "source": [
    "#Convert x_test to a numpy array \n",
    "x_test = np.array(x_test)"
   ]
  },
  {
   "cell_type": "code",
   "execution_count": null,
   "id": "6811df17",
   "metadata": {
    "collapsed": true,
    "execution": {
     "iopub.execute_input": "2022-10-03T13:36:49.981065Z",
     "iopub.status.busy": "2022-10-03T13:36:49.97984Z",
     "iopub.status.idle": "2022-10-03T13:36:49.991301Z",
     "shell.execute_reply": "2022-10-03T13:36:49.990142Z",
     "shell.execute_reply.started": "2022-10-03T13:36:49.981023Z"
    },
    "jupyter": {
     "outputs_hidden": true
    },
    "papermill": {
     "duration": null,
     "end_time": null,
     "exception": null,
     "start_time": null,
     "status": "pending"
    },
    "tags": []
   },
   "outputs": [],
   "source": [
    "#Reshape the data into the shape accepted by the LSTM\n",
    "x_test = np.reshape(x_test, (x_test.shape[0],x_test.shape[1],1))"
   ]
  },
  {
   "cell_type": "code",
   "execution_count": null,
   "id": "c8e77494",
   "metadata": {
    "collapsed": true,
    "execution": {
     "iopub.execute_input": "2022-10-03T13:36:49.993442Z",
     "iopub.status.busy": "2022-10-03T13:36:49.992864Z",
     "iopub.status.idle": "2022-10-03T13:36:50.887731Z",
     "shell.execute_reply": "2022-10-03T13:36:50.886708Z",
     "shell.execute_reply.started": "2022-10-03T13:36:49.993408Z"
    },
    "jupyter": {
     "outputs_hidden": true
    },
    "papermill": {
     "duration": null,
     "end_time": null,
     "exception": null,
     "start_time": null,
     "status": "pending"
    },
    "tags": []
   },
   "outputs": [],
   "source": [
    "#Getting the models predicted price values\n",
    "predictions = model.predict(x_test) \n",
    "predictions = scaler.inverse_transform(predictions)#Undo scaling"
   ]
  },
  {
   "cell_type": "code",
   "execution_count": null,
   "id": "897b68ab",
   "metadata": {
    "execution": {
     "iopub.execute_input": "2022-10-03T13:36:50.889162Z",
     "iopub.status.busy": "2022-10-03T13:36:50.888801Z",
     "iopub.status.idle": "2022-10-03T13:36:50.895749Z",
     "shell.execute_reply": "2022-10-03T13:36:50.894991Z",
     "shell.execute_reply.started": "2022-10-03T13:36:50.88913Z"
    },
    "papermill": {
     "duration": null,
     "end_time": null,
     "exception": null,
     "start_time": null,
     "status": "pending"
    },
    "tags": []
   },
   "outputs": [],
   "source": [
    "#Calculate/Get the value of RMSE\n",
    "rmse=np.sqrt(np.mean(((predictions - y_test)**2)))\n",
    "rmse"
   ]
  },
  {
   "cell_type": "markdown",
   "id": "58f11392",
   "metadata": {
    "execution": {
     "iopub.execute_input": "2022-10-03T01:48:41.228429Z",
     "iopub.status.busy": "2022-10-03T01:48:41.227837Z",
     "iopub.status.idle": "2022-10-03T01:48:41.240492Z",
     "shell.execute_reply": "2022-10-03T01:48:41.237627Z",
     "shell.execute_reply.started": "2022-10-03T01:48:41.228391Z"
    },
    "papermill": {
     "duration": null,
     "end_time": null,
     "exception": null,
     "start_time": null,
     "status": "pending"
    },
    "tags": []
   },
   "source": [
    "# 6. Fine-Tune the Model \n",
    "Displaying results of predictions and adjust "
   ]
  },
  {
   "cell_type": "code",
   "execution_count": null,
   "id": "0bc17be8",
   "metadata": {
    "execution": {
     "iopub.execute_input": "2022-10-03T13:36:50.897489Z",
     "iopub.status.busy": "2022-10-03T13:36:50.897168Z",
     "iopub.status.idle": "2022-10-03T13:36:50.907104Z",
     "shell.execute_reply": "2022-10-03T13:36:50.906281Z",
     "shell.execute_reply.started": "2022-10-03T13:36:50.897459Z"
    },
    "papermill": {
     "duration": null,
     "end_time": null,
     "exception": null,
     "start_time": null,
     "status": "pending"
    },
    "tags": []
   },
   "outputs": [],
   "source": [
    "# 7. Present the soltuion "
   ]
  },
  {
   "cell_type": "code",
   "execution_count": null,
   "id": "d9ab5f34",
   "metadata": {
    "collapsed": true,
    "execution": {
     "iopub.execute_input": "2022-10-03T13:36:50.909457Z",
     "iopub.status.busy": "2022-10-03T13:36:50.908443Z",
     "iopub.status.idle": "2022-10-03T13:36:51.278109Z",
     "shell.execute_reply": "2022-10-03T13:36:51.277294Z",
     "shell.execute_reply.started": "2022-10-03T13:36:50.909423Z"
    },
    "jupyter": {
     "outputs_hidden": true
    },
    "papermill": {
     "duration": null,
     "end_time": null,
     "exception": null,
     "start_time": null,
     "status": "pending"
    },
    "tags": []
   },
   "outputs": [],
   "source": [
    "#Plot/Create the data for the graph\n",
    "train = data[:training_data_len]\n",
    "valid = data[training_data_len:]\n",
    "# print(valid['Close'])\n",
    "# valid['Predictions'] = predictions\n",
    "valid.insert(1, \"Predictions\", predictions, True) \n",
    "#Visualize the data\n",
    "plt.figure(figsize=(16,8))\n",
    "plt.title('Model for {}'.format(STOCK))\n",
    "plt.xlabel('Date', fontsize=18)\n",
    "plt.ylabel('Close Price USD ($)', fontsize=18)\n",
    "plt.plot(train['Close'])\n",
    "plt.plot(valid[['Close', 'Predictions']])\n",
    "plt.legend(['Train', 'Val', 'Predictions'], loc='upper right')\n",
    "# plt.show()"
   ]
  },
  {
   "cell_type": "code",
   "execution_count": null,
   "id": "88d3d7a4",
   "metadata": {
    "collapsed": true,
    "execution": {
     "iopub.execute_input": "2022-10-03T13:36:51.280076Z",
     "iopub.status.busy": "2022-10-03T13:36:51.279294Z",
     "iopub.status.idle": "2022-10-03T13:36:51.284204Z",
     "shell.execute_reply": "2022-10-03T13:36:51.283242Z",
     "shell.execute_reply.started": "2022-10-03T13:36:51.28004Z"
    },
    "jupyter": {
     "outputs_hidden": true
    },
    "papermill": {
     "duration": null,
     "end_time": null,
     "exception": null,
     "start_time": null,
     "status": "pending"
    },
    "tags": []
   },
   "outputs": [],
   "source": [
    "#Show the valid and predicted prices\n",
    "# valid"
   ]
  },
  {
   "cell_type": "markdown",
   "id": "d46941c0",
   "metadata": {
    "execution": {
     "iopub.status.busy": "2022-10-03T01:49:39.355641Z",
     "iopub.status.idle": "2022-10-03T01:49:39.356235Z",
     "shell.execute_reply": "2022-10-03T01:49:39.355971Z",
     "shell.execute_reply.started": "2022-10-03T01:49:39.355943Z"
    },
    "papermill": {
     "duration": null,
     "end_time": null,
     "exception": null,
     "start_time": null,
     "status": "pending"
    },
    "tags": []
   },
   "source": [
    "# 8. Launch the ML System\n",
    "In a true production system you would not want to load the model each time as that would be slow and would be a preformace bottleneck"
   ]
  },
  {
   "cell_type": "code",
   "execution_count": null,
   "id": "3f5a9303",
   "metadata": {
    "collapsed": true,
    "execution": {
     "iopub.execute_input": "2022-10-03T13:36:51.285882Z",
     "iopub.status.busy": "2022-10-03T13:36:51.28554Z",
     "iopub.status.idle": "2022-10-03T13:36:52.637934Z",
     "shell.execute_reply": "2022-10-03T13:36:52.636727Z",
     "shell.execute_reply.started": "2022-10-03T13:36:51.285828Z"
    },
    "jupyter": {
     "outputs_hidden": true
    },
    "papermill": {
     "duration": null,
     "end_time": null,
     "exception": null,
     "start_time": null,
     "status": "pending"
    },
    "tags": []
   },
   "outputs": [],
   "source": [
    "\n",
    "\n",
    "def GetValue(High, Low, Open, Close, Volume, AdjClose):\n",
    "    model = keras.models.load_model('my_stock_model.h5')\n",
    "    # load the scaler\n",
    "    scaler = load(open('mmscaler.pkl', 'rb'))\n",
    "    # Display a model summary\n",
    "#     model.summary()\n",
    "    x_test = np.array([[High], [Low], [Open], [Close], [Volume], [AdjClose]])\n",
    "    x_test = scaler.transform(x_test)\n",
    "    x_test = np.reshape(x_test, (x_test.shape[0], x_test.shape[1], 1 ))\n",
    "    # Reshape the data into the shape accepted by the LSTM\n",
    "    predictions = model.predict(x_test) \n",
    "    predictions = scaler.inverse_transform(predictions)#Undo scaling\n",
    "    return predictions[0][0]\n",
    "\n",
    "print(\"Predicted Value is {:.2f}\".format(GetValue(30.34, 29.23, 29.74, 29.28, 844900.0,  29.28 )))"
   ]
  },
  {
   "cell_type": "code",
   "execution_count": null,
   "id": "9c39c497",
   "metadata": {
    "collapsed": true,
    "execution": {
     "iopub.execute_input": "2022-10-03T13:36:52.639923Z",
     "iopub.status.busy": "2022-10-03T13:36:52.639564Z",
     "iopub.status.idle": "2022-10-03T13:36:52.648127Z",
     "shell.execute_reply": "2022-10-03T13:36:52.647033Z",
     "shell.execute_reply.started": "2022-10-03T13:36:52.639878Z"
    },
    "jupyter": {
     "outputs_hidden": true
    },
    "papermill": {
     "duration": null,
     "end_time": null,
     "exception": null,
     "start_time": null,
     "status": "pending"
    },
    "tags": []
   },
   "outputs": [],
   "source": [
    "len(df)\n",
    "df.iloc[209]"
   ]
  }
 ],
 "metadata": {
  "kernelspec": {
   "display_name": "Python 3 (ipykernel)",
   "language": "python",
   "name": "python3"
  },
  "language_info": {
   "codemirror_mode": {
    "name": "ipython",
    "version": 3
   },
   "file_extension": ".py",
   "mimetype": "text/x-python",
   "name": "python",
   "nbconvert_exporter": "python",
   "pygments_lexer": "ipython3",
   "version": "3.11.1"
  },
  "papermill": {
   "default_parameters": {},
   "duration": 42.164607,
   "end_time": "2022-10-10T18:26:38.957964",
   "environment_variables": {},
   "exception": true,
   "input_path": "__notebook__.ipynb",
   "output_path": "__notebook__.ipynb",
   "parameters": {},
   "start_time": "2022-10-10T18:25:56.793357",
   "version": "2.3.4"
  }
 },
 "nbformat": 4,
 "nbformat_minor": 5
}
